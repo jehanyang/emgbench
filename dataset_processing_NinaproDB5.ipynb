{
 "cells": [
  {
   "cell_type": "code",
   "execution_count": 7,
   "metadata": {},
   "outputs": [],
   "source": [
    "# extract original and restimulus data from ./NinaproDB5/sX/sX_e2_A1.mat\n",
    "import torch\n",
    "import torch.nn as nn\n",
    "from torch.utils.data import DataLoader, Dataset\n",
    "import torchvision.transforms as transforms\n",
    "from torchvision.models import resnet50, ResNet50_Weights\n",
    "import numpy as np\n",
    "import pandas as pd\n",
    "#from sklearn import preprocessing, model_selection\n",
    "from sklearn import model_selection\n",
    "#from scipy.signal import butter,filtfilt,iirnotch,hilbert\n",
    "from scipy.signal import butter,filtfilt\n",
    "#from PyEMD import EMD\n",
    "#import wandb\n",
    "from sklearn.metrics import confusion_matrix\n",
    "import seaborn as sn\n",
    "import pandas as pd\n",
    "import matplotlib.pyplot as plt\n",
    "import matplotlib as mpl\n",
    "import scipy\n",
    "import scipy.io as sio\n",
    "from tqdm import tqdm\n",
    "import pandas as pd\n",
    "import os"
   ]
  },
  {
   "cell_type": "code",
   "execution_count": 2,
   "metadata": {},
   "outputs": [
    {
     "name": "stdout",
     "output_type": "stream",
     "text": [
      "dict_keys(['__header__', '__version__', '__globals__', 'emg', 'acc', 'stimulus', 'glove', 'subject', 'exercise', 'repetition', 'restimulus', 'rerepetition', 'age', 'circumference', 'frequency', 'gender', 'height', 'weight', 'laterality', 'sensor'])\n"
     ]
    }
   ],
   "source": [
    "# import ./NinaproDB5/sX/sX_e2_A1.mat for X from 1 to 10\n",
    "# extract original data and restimulus data\n",
    "\n",
    "# original data: emg, goniometer, acc, force\n",
    "# restimulus data: restimulus, restimulus_pos, restimulus_vel, restimulus_acc\n",
    "\n",
    "# Load the .mat file\n",
    "data = sio.loadmat('./NinaproDB5/s1/S1_E2_A1.mat')\n",
    "\n",
    "# Print the keys of the loaded data\n",
    "print(data.keys())\n",
    "\n",
    "# Access specific variables from the loaded data\n",
    "variable1 = data['emg']\n",
    "variable2 = data['restimulus']\n",
    "# ...\n"
   ]
  },
  {
   "cell_type": "code",
   "execution_count": 3,
   "metadata": {},
   "outputs": [
    {
     "data": {
      "text/plain": [
       "17"
      ]
     },
     "execution_count": 3,
     "metadata": {},
     "output_type": "execute_result"
    }
   ],
   "source": [
    "max(variable2.flatten())"
   ]
  },
  {
   "cell_type": "code",
   "execution_count": 6,
   "metadata": {},
   "outputs": [],
   "source": [
    "# mat to tensor\n",
    "wLen = 250 # Hz\n",
    "def getEMG (subject: int):\n",
    "    sub = str(subject+1)\n",
    "    mat_data = sio.loadmat('./NinaproDB5/s' + sub + '/S' + sub + '_E2_A1.mat')\n",
    "    mat_array = mat_data['emg']\n",
    "    return mat_array\n",
    "\n",
    "def getRestimulus (subject: int):\n",
    "    sub = str(subject+1)\n",
    "    mat_data = sio.loadmat('./NinaproDB5/s' + sub + '/S' + sub + '_E2_A1.mat')\n",
    "    mat_array = mat_data['restimulus']\n",
    "    return mat_array"
   ]
  },
  {
   "cell_type": "code",
   "execution_count": 17,
   "metadata": {},
   "outputs": [
    {
     "name": "stderr",
     "output_type": "stream",
     "text": [
      "subject: 100%|██████████| 10/10 [00:01<00:00,  7.50it/s]\n"
     ]
    }
   ],
   "source": [
    "for i in tqdm(range(0, 10), desc='subject'):\n",
    "    foldername = 'DatasetsProcessed_hdf5/NinaproDB5/s' + str(i+1) + '/'\n",
    "    if not os.path.exists(foldername):\n",
    "        os.makedirs(foldername)\n",
    "    restimulus_file_path = foldername + 'restimulusS' + str(i+1) + '_E2.hdf5'\n",
    "    emg_file_path = foldername + '/emgS' + str(i+1) + '_E2.hdf5'\n",
    "    \n",
    "    restimulus_data = getRestimulus(i)\n",
    "    emg_data = getEMG(i)\n",
    "    \n",
    "    restimulus_df = pd.DataFrame(restimulus_data)\n",
    "    emg_df = pd.DataFrame(emg_data)\n",
    "    \n",
    "    # restimulus_df.to_csv(restimulus_file_path, index=False)\n",
    "    # emg_df.to_csv(emg_file_path, index=False)\n",
    "    # save as hdf5 files\n",
    "    restimulus_df.to_hdf(restimulus_file_path, key='df', mode='w')\n",
    "    emg_df.to_hdf(emg_file_path, key='df', mode='w')\n"
   ]
  }
 ],
 "metadata": {
  "kernelspec": {
   "display_name": "emgbench",
   "language": "python",
   "name": "python3"
  },
  "language_info": {
   "codemirror_mode": {
    "name": "ipython",
    "version": 3
   },
   "file_extension": ".py",
   "mimetype": "text/x-python",
   "name": "python",
   "nbconvert_exporter": "python",
   "pygments_lexer": "ipython3",
   "version": "3.8.17"
  }
 },
 "nbformat": 4,
 "nbformat_minor": 2
}
