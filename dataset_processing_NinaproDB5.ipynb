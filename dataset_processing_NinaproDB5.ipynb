{
 "cells": [
  {
   "cell_type": "code",
   "execution_count": 2,
   "metadata": {},
   "outputs": [],
   "source": [
    "# extract original and restimulus data from ./NinaproDB5/sX/sX_e2_A1.mat\n",
    "import pandas as pd\n",
    "#from sklearn import preprocessing, model_selection\n",
    "#from scipy.signal import butter,filtfilt,iirnotch,hilbert\n",
    "#from PyEMD import EMD\n",
    "#import wandb\n",
    "import scipy.io as sio\n",
    "from tqdm import tqdm\n",
    "import os\n",
    "import argparse"
   ]
  },
  {
   "cell_type": "code",
   "execution_count": 31,
   "metadata": {},
   "outputs": [
    {
     "name": "stdout",
     "output_type": "stream",
     "text": [
      "Loading exercise 2\n",
      "Keys of exercise 2dict_keys(['__header__', '__version__', '__globals__', 'emg', 'acc', 'stimulus', 'glove', 'subject', 'exercise', 'repetition', 'restimulus', 'rerepetition', 'age', 'circumference', 'frequency', 'gender', 'height', 'weight', 'laterality', 'sensor'])\n",
      "Loading exercise 3\n",
      "Keys of exercise 3dict_keys(['__header__', '__version__', '__globals__', 'emg', 'acc', 'stimulus', 'glove', 'subject', 'exercise', 'repetition', 'restimulus', 'rerepetition', 'age', 'circumference', 'frequency', 'gender', 'height', 'weight', 'laterality', 'sensor'])\n"
     ]
    }
   ],
   "source": [
    "# import ./NinaproDB5/sX/sX_e2_A1.mat for X from 1 to 10\n",
    "# extract original data and restimulus data\n",
    "\n",
    "# original data: emg, goniometer, acc, force\n",
    "# restimulus data: restimulus, restimulus_pos, restimulus_vel, restimulus_acc\n",
    "\n",
    "# TODO: turn into python script rather than keeping as python notebook\n",
    "# TODO: add optional arguments for which exercises to load, and other parrameters as needed\n",
    "\n",
    "# Add optional arguments for which exercises to load\n",
    "# Create the parser\n",
    "# parser = argparse.ArgumentParser(description=\"Include arguments for loading different data files\")\n",
    "\n",
    "# Add argument for exercises to load\n",
    "# parser.add_argument('--exercises', type=int, nargs=\"+\", help='List the exercises of the 3 to load. The most popular for benchmarking seem to be 2 and 3. Can format as \\'--exercises 2 3\\'', default=2)\n",
    "\n",
    "# args = parser.parse_args()\n",
    "\n",
    "# manually assgn args.exercises to a list of exercises to load for now to test python notebook\n",
    "class args():\n",
    "    exercises = [2,3]\n",
    "\n",
    "data = {}\n",
    "emg_microvolts = {}\n",
    "emg_class = {}\n",
    "\n",
    "for exercise in args.exercises:\n",
    "    print(\"Loading exercise \" + str(exercise))\n",
    "    # Load the .mat file\n",
    "    data[exercise] = sio.loadmat('./NinaproDB5/s1/S1_E' + str(exercise) + '_A1.mat')\n",
    "\n",
    "    # Print the keys of the loaded data\n",
    "    print(\"Keys of exercise \"+ str(exercise) + str(data[exercise].keys()))\n",
    "\n",
    "    # Access specific variables from the loaded data\n",
    "    emg_microvolts[exercise] = data[exercise]['emg']\n",
    "    emg_class[exercise] = data[exercise]['restimulus']\n"
   ]
  },
  {
   "cell_type": "code",
   "execution_count": 32,
   "metadata": {},
   "outputs": [
    {
     "data": {
      "text/plain": [
       "23"
      ]
     },
     "execution_count": 32,
     "metadata": {},
     "output_type": "execute_result"
    }
   ],
   "source": [
    "max(emg_class[exercise])[0]"
   ]
  },
  {
   "cell_type": "code",
   "execution_count": 34,
   "metadata": {},
   "outputs": [
    {
     "name": "stdout",
     "output_type": "stream",
     "text": [
      "Exercise 2\n",
      "Shape of emg_microvolts: (179901, 16)\n",
      "Shape of emg_class: (179901, 1)\n",
      "Number of gestures: 17\n",
      "Exercise 3\n",
      "Shape of emg_microvolts: (258372, 16)\n",
      "Shape of emg_class: (258372, 1)\n",
      "Number of gestures: 23\n",
      "Remember that the rest gesture includes another gesture\n"
     ]
    }
   ],
   "source": [
    "for exercise in args.exercises:\n",
    "    print(\"Exercise \" + str(exercise))\n",
    "    print(\"Shape of emg_microvolts:\", emg_microvolts[exercise].shape)\n",
    "    print(\"Shape of emg_class:\", emg_class[exercise].shape)\n",
    "    print(\"Number of gestures:\", max(emg_class[exercise])[0])\n",
    "    \n",
    "print(\"Remember that the rest gesture includes another gesture\")"
   ]
  },
  {
   "cell_type": "code",
   "execution_count": 37,
   "metadata": {},
   "outputs": [],
   "source": [
    "# mat to tensor\n",
    "wLen = 250 # Hz\n",
    "def getEMG (subject: int, exercise: int):\n",
    "    sub = str(subject+1)\n",
    "    mat_data = sio.loadmat('./NinaproDB5/s' + sub + '/S' + sub + '_E' + str(exercise) + '_A1.mat')\n",
    "    mat_array = mat_data['emg']\n",
    "    return mat_array\n",
    "\n",
    "def getRestimulus (subject: int, exercise: int):\n",
    "    sub = str(subject+1)\n",
    "    mat_data = sio.loadmat('./NinaproDB5/s' + sub + '/S' + sub + '_E' + str(exercise) + '_A1.mat')\n",
    "    mat_array = mat_data['restimulus']\n",
    "    return mat_array"
   ]
  },
  {
   "cell_type": "code",
   "execution_count": 38,
   "metadata": {},
   "outputs": [
    {
     "name": "stderr",
     "output_type": "stream",
     "text": [
      "exercise: 100%|██████████| 2/2 [00:00<00:00,  7.73it/s]\n",
      "exercise: 100%|██████████| 2/2 [00:00<00:00,  8.51it/s]\n",
      "exercise: 100%|██████████| 2/2 [00:00<00:00,  8.81it/s]\n",
      "exercise: 100%|██████████| 2/2 [00:00<00:00,  8.50it/s]\n",
      "exercise: 100%|██████████| 2/2 [00:00<00:00,  9.01it/s]\n",
      "exercise: 100%|██████████| 2/2 [00:00<00:00,  8.20it/s]\n",
      "exercise: 100%|██████████| 2/2 [00:00<00:00,  8.42it/s]\n",
      "exercise: 100%|██████████| 2/2 [00:00<00:00,  8.80it/s]\n",
      "exercise: 100%|██████████| 2/2 [00:00<00:00,  8.51it/s]\n",
      "exercise: 100%|██████████| 2/2 [00:00<00:00,  8.44it/s]\n",
      "subject: 100%|██████████| 10/10 [00:02<00:00,  4.22it/s]\n"
     ]
    }
   ],
   "source": [
    "for i in tqdm(range(0, 10), desc='subject'):\n",
    "    foldername = 'DatasetsProcessed_hdf5/NinaproDB5/s' + str(i+1) + '/'\n",
    "    if not os.path.exists(foldername):\n",
    "        os.makedirs(foldername)\n",
    "    for j in tqdm(range(1, 3), desc='exercise'):\n",
    "        restimulus_file_path = foldername + 'restimulusS' + str(i+1) + '_E' + str(j) + '.hdf5'\n",
    "        emg_file_path = foldername + '/emgS' + str(i+1) + '_E' + str(j) + '.hdf5'\n",
    "        \n",
    "        restimulus_data = getRestimulus(i, j)\n",
    "        emg_data = getEMG(i, j)\n",
    "        \n",
    "        restimulus_df = pd.DataFrame(restimulus_data)\n",
    "        emg_df = pd.DataFrame(emg_data)\n",
    "        \n",
    "        # restimulus_df.to_csv(restimulus_file_path, index=False)\n",
    "        # emg_df.to_csv(emg_file_path, index=False)\n",
    "        # save as hdf5 files\n",
    "        restimulus_df.to_hdf(restimulus_file_path, key='df', mode='w')\n",
    "        emg_df.to_hdf(emg_file_path, key='df', mode='w')\n",
    "    # restimulus_file_path = foldername + 'restimulusS' + str(i+1) + '_E2.hdf5'\n",
    "    # emg_file_path = foldername + '/emgS' + str(i+1) + '_E2.hdf5'\n",
    "    \n",
    "    # restimulus_data = getRestimulus(i)\n",
    "    # emg_data = getEMG(i)\n",
    "    \n",
    "    # restimulus_df = pd.DataFrame(restimulus_data)\n",
    "    # emg_df = pd.DataFrame(emg_data)\n",
    "    \n",
    "    # # restimulus_df.to_csv(restimulus_file_path, index=False)\n",
    "    # # emg_df.to_csv(emg_file_path, index=False)\n",
    "    # # save as hdf5 files\n",
    "    # restimulus_df.to_hdf(restimulus_file_path, key='df', mode='w')\n",
    "    # emg_df.to_hdf(emg_file_path, key='df', mode='w')\n"
   ]
  }
 ],
 "metadata": {
  "kernelspec": {
   "display_name": "emgbench",
   "language": "python",
   "name": "python3"
  },
  "language_info": {
   "codemirror_mode": {
    "name": "ipython",
    "version": 3
   },
   "file_extension": ".py",
   "mimetype": "text/x-python",
   "name": "python",
   "nbconvert_exporter": "python",
   "pygments_lexer": "ipython3",
   "version": "3.8.17"
  }
 },
 "nbformat": 4,
 "nbformat_minor": 2
}
