{
 "cells": [
  {
   "cell_type": "code",
   "execution_count": 8,
   "metadata": {},
   "outputs": [
    {
     "name": "stdout",
     "output_type": "stream",
     "text": [
      "190\n"
     ]
    }
   ],
   "source": [
    "import torch\n",
    "from torchvision.models import convnext_tiny, ConvNeXt_Tiny_Weights\n",
    "import torch.nn as nn\n",
    "class LayerNorm2d(nn.LayerNorm):\n",
    "    def forward(self, x: torch.Tensor) -> torch.Tensor:\n",
    "        x = x.permute(0, 2, 3, 1)\n",
    "        x = torch.nn.functional.layer_norm(x, self.normalized_shape, self.weight, self.bias, self.eps)\n",
    "        x = x.permute(0, 3, 1, 2)\n",
    "        return x\n",
    "n_inputs = 768\n",
    "hidden_size = 256 # default is 2048\n",
    "n_outputs = 10\n",
    "\n",
    "model = convnext_tiny(weights=ConvNeXt_Tiny_Weights.DEFAULT)\n",
    "sequential_layers = nn.Sequential(\n",
    "    LayerNorm2d((1024,), eps=1e-06, elementwise_affine=True),\n",
    "    nn.Flatten(start_dim=1, end_dim=-1),\n",
    "    nn.Linear(n_inputs, hidden_size, bias=True),\n",
    "    nn.BatchNorm1d(hidden_size),\n",
    "    nn.ReLU(),\n",
    "    nn.Dropout(0.1),\n",
    "    nn.Linear(hidden_size, hidden_size),\n",
    "    nn.BatchNorm1d(hidden_size),\n",
    "    nn.ReLU(),\n",
    "    nn.Linear(hidden_size, n_outputs),\n",
    "    nn.LogSoftmax(dim=1)\n",
    ")\n",
    "model.classifier = sequential_layers\n",
    "'''\n",
    "layers = [(name, param.requires_grad) for name, param in model.named_parameters()]\n",
    "for i in range(len(layers)):\n",
    "    print(layers[i])\n",
    "'''\n",
    "'''\n",
    "n_inputs = None\n",
    "for name, child in model.named_children():\n",
    "    if name == 'classifier':\n",
    "        for sub_name, sub_child in child.named_children():\n",
    "            if sub_name == '2':\n",
    "                n_inputs = sub_child.in_features\n",
    "'''\n",
    "num = 0\n",
    "for name, param in model.named_parameters():\n",
    "    if (param.requires_grad):\n",
    "        num += 1\n",
    "    #if (num > 159): # for freezing layers 1, 2, 3, and 4\n",
    "    #if (num > 129): # for freezing layers 1, 2, and 3\n",
    "    #if (num > 72): # for freezing layers 1 and 2\n",
    "    #if (num > 33): #for freezing layer 1\n",
    "    #if (num >= 0): # for no freezing\n",
    "        #param.requires_grad = True\n",
    "    #else:\n",
    "        #param.requires_grad = False\n",
    "print(num)"
   ]
  }
 ],
 "metadata": {
  "interpreter": {
   "hash": "fd69f43f58546b570e94fd7eba7b65e6bcc7a5bbc4eab0408017d18902915d69"
  },
  "kernelspec": {
   "display_name": "Python 3.7.13 64-bit",
   "language": "python",
   "name": "python3"
  },
  "language_info": {
   "codemirror_mode": {
    "name": "ipython",
    "version": 3
   },
   "file_extension": ".py",
   "mimetype": "text/x-python",
   "name": "python",
   "nbconvert_exporter": "python",
   "pygments_lexer": "ipython3",
   "version": "3.7.13"
  },
  "orig_nbformat": 4
 },
 "nbformat": 4,
 "nbformat_minor": 2
}
